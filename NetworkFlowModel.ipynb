{
 "cells": [
  {
   "cell_type": "code",
   "execution_count": 1,
   "id": "c8599da7",
   "metadata": {},
   "outputs": [],
   "source": [
    "import pandas as pd\n",
    "import gurobipy as gp"
   ]
  },
  {
   "cell_type": "markdown",
   "id": "6b3e4b44",
   "metadata": {},
   "source": [
    "# Final Project Notebook"
   ]
  },
  {
   "cell_type": "markdown",
   "id": "ccf46004",
   "metadata": {},
   "source": [
    "#### Marc Bitar, Chris Lee, Austin Douthit, Suren Dharmasena, Jack Casey"
   ]
  },
  {
   "cell_type": "code",
   "execution_count": 2,
   "id": "ecb97768",
   "metadata": {},
   "outputs": [],
   "source": [
    "supply = dict({'SFO': 467,\n",
    "               'LAX': 437})\n",
    "\n",
    "demand = dict({'EWR': 356,\n",
    "                'LGA': 516})"
   ]
  },
  {
   "cell_type": "code",
   "execution_count": 3,
   "id": "35e354f2",
   "metadata": {},
   "outputs": [],
   "source": [
    "arcs, fuelCost = gp.multidict({\n",
    "    ('SFO', 'ORD'): 8097.83,\n",
    "    ('SFO', 'DEN'): 4253.45,\n",
    "    ('LAX', 'DFW'): 5419.08,\n",
    "    ('DFW', 'LGA'): 6096.46,\n",
    "    ('LAX', 'ATL'): 8559.68,\n",
    "    ('DEN', 'ORD'): 3897.16,\n",
    "    ('DFW', 'DTW'): 3769.60,\n",
    "    ('DEN', 'DFW'): 2819.50,\n",
    "    ('ATL', 'IAD'): 2348.85,\n",
    "    ('ORD', 'PHL'): 2982.25,\n",
    "    ('DTW', 'PHL'): 1992.57,\n",
    "    ('DTW', 'EWR'): 2146.52,\n",
    "    ('PHL', 'EWR'): 351.89,\n",
    "    ('ORD', 'LGA'): 3215.38,\n",
    "    ('IAD', 'LGA'): 1007.28\n",
    "})\n",
    "\n",
    "# maxFlights is bigM\n",
    "airport, hangerCost, maxFlights = gp.multidict({\n",
    "    'DEN':\t[100_000_000, 448],\n",
    "    'DFW':\t[130_000_000, 460],\n",
    "    'ORD':\t[215_000_000, 513],\n",
    "    'DTW':\t[80_000_000, 429],\n",
    "    'ATL':\t[150_000_000, 492],\n",
    "    'PHL':\t[90_000_000, 426],\n",
    "    'IAD':\t[105_000_000, 413]\n",
    "})"
   ]
  },
  {
   "cell_type": "code",
   "execution_count": 4,
   "id": "038b566e",
   "metadata": {},
   "outputs": [
    {
     "name": "stdout",
     "output_type": "stream",
     "text": [
      "Restricted license - for non-production use only - expires 2024-10-28\n"
     ]
    }
   ],
   "source": [
    "#Model and variable creation\n",
    "model = gp.Model('United')\n",
    "flow = model.addVars(arcs, vtype='I', name=\"flow\")\n",
    "hangar = model.addVars(airport, vtype='B', name='hangar')"
   ]
  },
  {
   "cell_type": "code",
   "execution_count": 5,
   "id": "3b19952a",
   "metadata": {},
   "outputs": [],
   "source": [
    "#Defining objective\n",
    "model.setObjective(gp.quicksum((fuelCost[arc]*flow[arc] for arc in arcs)) \n",
    "                   + gp.quicksum((hangerCost[a]*hangar[a] for a in airport)))"
   ]
  },
  {
   "cell_type": "code",
   "execution_count": 6,
   "id": "c84f810a",
   "metadata": {},
   "outputs": [],
   "source": [
    "spots = supply.keys()\n",
    "spots_flow = model.addConstrs((gp.quicksum(flow.select(spot, '*')) \n",
    "                                 <= supply[spot] for spot in spots), name=\"supply constraint\")\n",
    "#supply constraints"
   ]
  },
  {
   "cell_type": "code",
   "execution_count": 7,
   "id": "0d581cc5",
   "metadata": {},
   "outputs": [],
   "source": [
    "planes = demand.keys()\n",
    "planes_flow = model.addConstrs((gp.quicksum(flow.select('*', plane)) - \n",
    "                                  gp.quicksum(flow.select(plane, '*')) >= demand[plane]\n",
    "                                  for plane in planes), name=\"demand constraint\")\n",
    "#demand constraints"
   ]
  },
  {
   "cell_type": "code",
   "execution_count": 8,
   "id": "453a92d3",
   "metadata": {},
   "outputs": [
    {
     "data": {
      "text/plain": [
       "{'DEN': <gurobi.Constr *Awaiting Model Update*>,\n",
       " 'DFW': <gurobi.Constr *Awaiting Model Update*>,\n",
       " 'ORD': <gurobi.Constr *Awaiting Model Update*>,\n",
       " 'DTW': <gurobi.Constr *Awaiting Model Update*>,\n",
       " 'ATL': <gurobi.Constr *Awaiting Model Update*>,\n",
       " 'PHL': <gurobi.Constr *Awaiting Model Update*>,\n",
       " 'IAD': <gurobi.Constr *Awaiting Model Update*>}"
      ]
     },
     "execution_count": 8,
     "metadata": {},
     "output_type": "execute_result"
    }
   ],
   "source": [
    "model.addConstrs(gp.quicksum(flow.select('*',j)) - gp.quicksum(flow.select(j,'*')) >= 0 for j in airport)\n",
    "#transhipment Constraint"
   ]
  },
  {
   "cell_type": "code",
   "execution_count": 9,
   "id": "879142a6",
   "metadata": {},
   "outputs": [
    {
     "data": {
      "text/plain": [
       "<gurobi.Constr *Awaiting Model Update*>"
      ]
     },
     "execution_count": 9,
     "metadata": {},
     "output_type": "execute_result"
    }
   ],
   "source": [
    "# linking constraints\n",
    "model.addConstr((flow[('SFO', 'DEN')] - maxFlights['DEN']*hangar['DEN'] <= 0), name = 'linking')\n",
    "model.addConstr((flow[('LAX', 'DFW')] + flow[('DEN', 'DFW')] - maxFlights['DFW']*hangar['DFW'] <= 0), name = 'linking')\n",
    "model.addConstr((flow[('SFO', 'ORD')] + flow[('DEN', 'ORD')] - maxFlights['ORD']*hangar['ORD'] <= 0), name = 'linking')\n",
    "model.addConstr((flow[('DFW', 'DTW')] - maxFlights['DTW']*hangar['DTW'] <= 0), name = 'linking')\n",
    "model.addConstr((flow[('DTW', 'PHL')] + flow[('ORD', 'PHL')] - maxFlights['PHL']*hangar['PHL'] <= 0), name = 'linking')\n",
    "model.addConstr((flow[('LAX', 'ATL')] - maxFlights['ATL']*hangar['ATL'] <= 0), name = 'linking')\n",
    "model.addConstr((flow[('ATL', 'IAD')] - maxFlights['IAD']*hangar['IAD'] <= 0), name = 'linking')"
   ]
  },
  {
   "cell_type": "code",
   "execution_count": 10,
   "id": "516fe325",
   "metadata": {
    "scrolled": false
   },
   "outputs": [
    {
     "name": "stdout",
     "output_type": "stream",
     "text": [
      "Gurobi Optimizer version 10.0.0 build v10.0.0rc2 (mac64[x86])\n",
      "\n",
      "CPU model: Intel(R) Core(TM) i5-8257U CPU @ 1.40GHz\n",
      "Thread count: 4 physical cores, 8 logical processors, using up to 8 threads\n",
      "\n",
      "Optimize a model with 18 rows, 22 columns and 47 nonzeros\n",
      "Model fingerprint: 0x16e14ff4\n",
      "Variable types: 0 continuous, 22 integer (7 binary)\n",
      "Coefficient statistics:\n",
      "  Matrix range     [1e+00, 5e+02]\n",
      "  Objective range  [4e+02, 2e+08]\n",
      "  Bounds range     [1e+00, 1e+00]\n",
      "  RHS range        [4e+02, 5e+02]\n",
      "Found heuristic solution: objective 8.003705e+08\n",
      "Presolve removed 8 rows and 10 columns\n",
      "Presolve time: 0.01s\n",
      "Presolved: 10 rows, 12 columns, 26 nonzeros\n",
      "Found heuristic solution: objective 8.003504e+08\n",
      "Variable types: 0 continuous, 12 integer (6 binary)\n",
      "Found heuristic solution: objective 8.003482e+08\n",
      "\n",
      "Root relaxation: objective 4.136570e+08, 11 iterations, 0.01 seconds (0.00 work units)\n",
      "\n",
      "    Nodes    |    Current Node    |     Objective Bounds      |     Work\n",
      " Expl Unexpl |  Obj  Depth IntInf | Incumbent    BestBd   Gap | It/Node Time\n",
      "\n",
      "     0     0 4.1366e+08    0    2 8.0035e+08 4.1366e+08  48.3%     -    0s\n",
      "H    0     0                    4.348893e+08 4.1366e+08  4.88%     -    0s\n",
      "H    0     0                    4.348891e+08 4.1366e+08  4.88%     -    0s\n",
      "     0     0          -    0      4.3489e+08 4.3488e+08  0.00%     -    0s\n",
      "\n",
      "Explored 1 nodes (13 simplex iterations) in 0.07 seconds (0.00 work units)\n",
      "Thread count was 8 (of 8 available processors)\n",
      "\n",
      "Solution count 5: 4.34889e+08 4.34889e+08 8.00348e+08 ... 8.0037e+08\n",
      "\n",
      "Optimal solution found (tolerance 1.00e-04)\n",
      "Best objective 4.348891339600e+08, best bound 4.348828617300e+08, gap 0.0014%\n"
     ]
    }
   ],
   "source": [
    "model.optimize()"
   ]
  },
  {
   "cell_type": "code",
   "execution_count": 11,
   "id": "dbe03485",
   "metadata": {},
   "outputs": [
    {
     "name": "stdout",
     "output_type": "stream",
     "text": [
      "\n",
      "    Variable            X \n",
      "-------------------------\n",
      "flow[SFO,ORD]          436 \n",
      "flow[LAX,DFW]          436 \n",
      "flow[DFW,LGA]           80 \n",
      "flow[DFW,DTW]          356 \n",
      "flow[DTW,EWR]          356 \n",
      "flow[ORD,LGA]          436 \n",
      " hangar[DFW]            1 \n",
      " hangar[ORD]            1 \n",
      " hangar[DTW]            1 \n"
     ]
    }
   ],
   "source": [
    "#objective solution\n",
    "model.printAttr('X')"
   ]
  },
  {
   "cell_type": "code",
   "execution_count": 14,
   "id": "7e78c0a3",
   "metadata": {},
   "outputs": [
    {
     "data": {
      "text/plain": [
       "434889133.96000004"
      ]
     },
     "execution_count": 14,
     "metadata": {},
     "output_type": "execute_result"
    }
   ],
   "source": [
    "#objective value\n",
    "model.objVal"
   ]
  },
  {
   "cell_type": "code",
   "execution_count": 13,
   "id": "771d1cc7",
   "metadata": {
    "scrolled": true
   },
   "outputs": [
    {
     "name": "stdout",
     "output_type": "stream",
     "text": [
      "Warning: constraint name \"supply constraint[SFO]\" has a space\n"
     ]
    }
   ],
   "source": [
    "model.write('test2.lp')"
   ]
  }
 ],
 "metadata": {
  "kernelspec": {
   "display_name": "Python 3 (ipykernel)",
   "language": "python",
   "name": "python3"
  },
  "language_info": {
   "codemirror_mode": {
    "name": "ipython",
    "version": 3
   },
   "file_extension": ".py",
   "mimetype": "text/x-python",
   "name": "python",
   "nbconvert_exporter": "python",
   "pygments_lexer": "ipython3",
   "version": "3.9.7"
  }
 },
 "nbformat": 4,
 "nbformat_minor": 5
}
